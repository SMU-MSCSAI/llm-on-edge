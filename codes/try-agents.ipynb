{
 "cells": [
  {
   "cell_type": "code",
   "execution_count": 2,
   "metadata": {},
   "outputs": [
    {
     "name": "stderr",
     "output_type": "stream",
     "text": [
      "/Users/tangotew/miniconda3/envs/llm_quant/lib/python3.9/site-packages/tqdm/auto.py:21: TqdmWarning: IProgress not found. Please update jupyter and ipywidgets. See https://ipywidgets.readthedocs.io/en/stable/user_install.html\n",
      "  from .autonotebook import tqdm as notebook_tqdm\n"
     ]
    }
   ],
   "source": [
    "import sys \n",
    "import os\n",
    "sys.path.append(os.path.abspath(os.path.join(os.getcwd(), '..')))\n",
    "from codes.helpers import load_or_download_model\n",
    "from codes.agents import *"
   ]
  },
  {
   "cell_type": "code",
   "execution_count": 4,
   "metadata": {},
   "outputs": [],
   "source": [
    "# Define the model name and directory\n",
    "# Load the GPT-NeoX model and tokenizer\n",
    "# Define the model name and directory\n",
    "model_name = \"TinyLlama/TinyLlama-1.1B-Chat-v1.0\"\n",
    "model_dir = \"../models/tiny-llama-1.1B\"\n",
    "\n",
    "# Load or download the model\n",
    "model, tokenizer = load_or_download_model(model_name, model_dir)"
   ]
  },
  {
   "cell_type": "code",
   "execution_count": 5,
   "metadata": {},
   "outputs": [
    {
     "name": "stdout",
     "output_type": "stream",
     "text": [
      "Task: Write a Python function to turn on the light.\n",
      "Response: Unknown task type\n",
      "--------------------------------------------------------------------------------\n",
      "Task: Fetch weather data from an API and display it.\n",
      "Response: Call API to: Fetch weather data from an API and display it.\n",
      "\n",
      "1. Install the necessary dependencies:\n",
      "\n",
      "```\n",
      "npm install axios\n",
      "```\n",
      "\n",
      "2. Create an instance of the `Axios` class:\n",
      "\n",
      "```\n",
      "const axios = require('axios');\n",
      "```\n",
      "\n",
      "3. Define the API endpoint:\n",
      "\n",
      "```\n",
      "const API_ENDPOINT = 'https://api.openweathermap.org/data/2.5/weather?';\n",
      "```\n",
      "\n",
      "4. Define the API key:\n",
      "\n",
      "```\n",
      "const API_KEY = 'YOUR_API_KEY_HERE';\n",
      "```\n",
      "\n",
      "5. Define the latitude and\n",
      "--------------------------------------------------------------------------------\n",
      "Task: Search Google for 'Python programming tutorials'.\n",
      "Response: Search web for: Search Google for 'Python programming tutorials'.\n",
      "\n",
      "2. Codecademy: Codecademy offers a wide range of Python tutorials, including beginner, intermediate, and advanced courses.\n",
      "\n",
      "3. Udacity: Udacity offers a Python course that covers everything from basic programming concepts to advanced topics like machine learning and artificial intelligence.\n",
      "\n",
      "4. Coursera: Coursera offers a Python course that covers topics like data science, machine learning, and artificial intelligence.\n",
      "\n",
      "5. LinkedIn Learning: LinkedIn Learning offers a Python course that covers topics like data science, machine learning, and artificial intelligence.\n",
      "\n",
      "6. Khan Academy: Khan Academy offers a Python course that covers topics like data science, machine\n",
      "--------------------------------------------------------------------------------\n"
     ]
    }
   ],
   "source": [
    "# Example tasks\n",
    "tasks = [\n",
    "    \"Write a Python function to turn on the light.\",\n",
    "    \"Fetch weather data from an API and display it.\",\n",
    "    \"Search Google for 'Python programming tutorials'.\",\n",
    "]\n",
    "\n",
    "for task in tasks:\n",
    "    response = handle_task(task, model, tokenizer)\n",
    "    print(f\"Task: {task}\\nResponse: {response}\\n{'-'*80}\")\n"
   ]
  }
 ],
 "metadata": {
  "kernelspec": {
   "display_name": "llm_quant",
   "language": "python",
   "name": "python3"
  },
  "language_info": {
   "codemirror_mode": {
    "name": "ipython",
    "version": 3
   },
   "file_extension": ".py",
   "mimetype": "text/x-python",
   "name": "python",
   "nbconvert_exporter": "python",
   "pygments_lexer": "ipython3",
   "version": "3.9.19"
  }
 },
 "nbformat": 4,
 "nbformat_minor": 2
}
