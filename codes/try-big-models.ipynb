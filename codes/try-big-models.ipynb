{
 "cells": [
  {
   "cell_type": "code",
   "execution_count": 1,
   "metadata": {},
   "outputs": [
    {
     "name": "stderr",
     "output_type": "stream",
     "text": [
      "/Users/tangotew/miniconda3/envs/llm_quant/lib/python3.9/site-packages/tqdm/auto.py:21: TqdmWarning: IProgress not found. Please update jupyter and ipywidgets. See https://ipywidgets.readthedocs.io/en/stable/user_install.html\n",
      "  from .autonotebook import tqdm as notebook_tqdm\n"
     ]
    }
   ],
   "source": [
    "import os\n",
    "from transformers import AutoModelForCausalLM, AutoTokenizer\n",
    "import torch"
   ]
  },
  {
   "cell_type": "code",
   "execution_count": 2,
   "metadata": {},
   "outputs": [],
   "source": [
    "def load_or_download_model(model_name, model_dir):\n",
    "    # Check if the model directory exists\n",
    "    if not os.path.exists(model_dir):\n",
    "        os.makedirs(model_dir)\n",
    "        # Download and save the model and tokenizer\n",
    "        tokenizer = AutoTokenizer.from_pretrained(model_name)\n",
    "        model = AutoModelForCausalLM.from_pretrained(model_name)\n",
    "        tokenizer.save_pretrained(model_dir)\n",
    "        model.save_pretrained(model_dir)\n",
    "    else:\n",
    "        # Load the model and tokenizer from the local directory\n",
    "        tokenizer = AutoTokenizer.from_pretrained(model_dir)\n",
    "        model = AutoModelForCausalLM.from_pretrained(model_dir)\n",
    "    \n",
    "    return model, tokenizer\n",
    "\n",
    "def generate_response(model, tokenizer, prompt, max_length=150):\n",
    "    inputs = tokenizer(prompt, return_tensors=\"pt\")\n",
    "    outputs = model.generate(inputs[\"input_ids\"], max_length=max_length)\n",
    "    generated_text = tokenizer.decode(outputs[0], skip_special_tokens=True)\n",
    "    return generated_text"
   ]
  },
  {
   "cell_type": "code",
   "execution_count": 9,
   "metadata": {},
   "outputs": [],
   "source": [
    "# Define the model name and directory\n",
    "# Load the GPT-NeoX model and tokenizer\n",
    "# Define the model name and directory\n",
    "model_name = \"TinyLlama/TinyLlama-1.1B-Chat-v1.0\"\n",
    "model_dir = \"../models/tiny-llama-1.1B\"\n",
    "\n",
    "# Load or download the model\n",
    "model, tokenizer = load_or_download_model(model_name, model_dir)"
   ]
  },
  {
   "cell_type": "code",
   "execution_count": 10,
   "metadata": {},
   "outputs": [
    {
     "name": "stdout",
     "output_type": "stream",
     "text": [
      "Generated Code:\n",
      "Write a Python function to fetch weather data from an API. The function should take in the API key as a parameter and return a dictionary containing the current temperature, humidity, and wind speed. The function should also handle errors and return an empty dictionary if the API call fails. The function should be well-documented and follow PEP 8 style guidelines.\n"
     ]
    }
   ],
   "source": [
    "# Example usage\n",
    "prompt = \"Write a Python function to fetch weather data from an API.\"\n",
    "generated_code = generate_response(model, tokenizer, prompt)\n",
    "print(f\"Generated Code:\\n{generated_code}\")"
   ]
  }
 ],
 "metadata": {
  "kernelspec": {
   "display_name": "llm_quant",
   "language": "python",
   "name": "python3"
  },
  "language_info": {
   "codemirror_mode": {
    "name": "ipython",
    "version": 3
   },
   "file_extension": ".py",
   "mimetype": "text/x-python",
   "name": "python",
   "nbconvert_exporter": "python",
   "pygments_lexer": "ipython3",
   "version": "3.9.19"
  }
 },
 "nbformat": 4,
 "nbformat_minor": 2
}
