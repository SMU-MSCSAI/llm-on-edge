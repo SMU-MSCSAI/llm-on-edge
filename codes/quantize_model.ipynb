{
 "cells": [
  {
   "cell_type": "markdown",
   "metadata": {},
   "source": [
    "## Import the libraries"
   ]
  },
  {
   "cell_type": "code",
   "execution_count": 2,
   "metadata": {},
   "outputs": [],
   "source": [
    "\n",
    "from transformers import AutoModelForCausalLM, AutoTokenizer\n",
    "import torch.quantization\n",
    "import torch\n",
    "import time\n",
    "\n",
    "import sys \n",
    "import os\n",
    "sys.path.append(os.path.abspath(os.path.join(os.getcwd(), '..')))\n",
    "from codes.helpers import load_and_save_model, load_and_quantize_gpt2model, measure_inference_time, plot_measurements"
   ]
  },
  {
   "cell_type": "code",
   "execution_count": 3,
   "metadata": {},
   "outputs": [],
   "source": [
    "# Define model names and directories\n",
    "# Define model names and directories\n",
    "model_name = \"facebook/blenderbot-400M-distill\"\n",
    "model_dir = \"../models/blenderbot-400M-distill\"\n",
    "quantized_model_dir = \"../models/quantized_blenderbot-400M-distill\"\n",
    "# model_name = \"gpt2\"\n",
    "# model_dir = \"../models/gpt2\"\n",
    "# quantized_model_dir = \"../models/quantized_gpt2\"\n"
   ]
  },
  {
   "cell_type": "markdown",
   "metadata": {},
   "source": [
    "### Load and test the unquantized model"
   ]
  },
  {
   "cell_type": "code",
   "execution_count": 4,
   "metadata": {},
   "outputs": [
    {
     "name": "stdout",
     "output_type": "stream",
     "text": [
      "Model and tokenizer already exist in ../models/blenderbot-400M-distill\n",
      "Input IDs: tensor([[4424,   19,  544,  366,  304,   38,    2]])\n",
      "Unquantized model response:  Hi, how are you? more about ect. it's been a long time since I'd like to go for a longer time. kind of deal with stuff.\n"
     ]
    }
   ],
   "source": [
    "\n",
    "# Load and save the unquantized model\n",
    "unquantized_model, tokenizer = load_and_save_model(model_name, model_dir)\n",
    "\n",
    "# Test the unquantized model\n",
    "input_text = \"Hi, how are you?\"\n",
    "input_ids = tokenizer.encode(input_text, return_tensors=\"pt\")\n",
    "\n",
    "# Print the input IDs to verify\n",
    "print(f\"Input IDs: {input_ids}\")\n",
    "\n",
    "# Create an attention mask\n",
    "attention_mask = torch.ones(input_ids.shape, dtype=torch.long)\n",
    "\n",
    "# Measure inference speed for the unquantized model\n",
    "uq_start_time = time.time()\n",
    "# Simplify the generation call to isolate issues\n",
    "response_ids = unquantized_model.generate(\n",
    "    input_ids,\n",
    "    attention_mask=attention_mask,\n",
    "    pad_token_id=tokenizer.eos_token_id,\n",
    "    max_length=100,\n",
    "    do_sample=True,      # Enable sampling to allow diverse outputs\n",
    "    top_k=50,            # Consider the top 50 tokens at each step\n",
    "    top_p=0.95,          # Use nucleus sampling\n",
    "    temperature=0.9,     # Control the randomness of predictions\n",
    "    num_return_sequences=1,  # Generate one response\n",
    "    repetition_penalty=2.0   # Penalize repetitions\n",
    ")\n",
    "unquantized_inference_time = time.time() - uq_start_time\n",
    "\n",
    "# Print the response IDs to verify\n",
    "# print(f\"Response IDs: {response_ids}\")\n",
    "\n",
    "# Decode the response\n",
    "response = tokenizer.decode(response_ids[0], skip_special_tokens=True)\n",
    "print(f\"Unquantized model response: {response}\")"
   ]
  },
  {
   "cell_type": "markdown",
   "metadata": {},
   "source": [
    "### Load and Test quantized Model"
   ]
  },
  {
   "cell_type": "code",
   "execution_count": 5,
   "metadata": {},
   "outputs": [
    {
     "name": "stdout",
     "output_type": "stream",
     "text": [
      "Quantized model and tokenizer already exist in ../models/quantized_blenderbot-400M-distill\n"
     ]
    },
    {
     "name": "stderr",
     "output_type": "stream",
     "text": [
      "/Users/tangotew/miniconda3/envs/llm_quant/lib/python3.9/site-packages/torch/_utils.py:382: UserWarning: TypedStorage is deprecated. It will be removed in the future and UntypedStorage will be the only storage class. This should only matter to you if you are using storages directly.  To access UntypedStorage directly, use tensor.untyped_storage() instead of tensor.storage()\n",
      "  device=storage.device,\n"
     ]
    },
    {
     "name": "stdout",
     "output_type": "stream",
     "text": [
      "Quantized model response:  Hi, how are you? I have learned how to get back on.  Sorry about that.\n"
     ]
    }
   ],
   "source": [
    "\n",
    "# Now let's quantize the model and test the quantized version\n",
    "q_model, q_tokenizer = load_and_quantize_gpt2model(model_name, model_dir, quantized_model_dir)\n",
    "\n",
    "# Measure inference speed for the quantized model\n",
    "start_time = time.time()\n",
    "# Test the quantized model\n",
    "response_ids = q_model.generate(\n",
    "    input_ids,\n",
    "    attention_mask=attention_mask,\n",
    "    pad_token_id=tokenizer.eos_token_id,\n",
    "    max_length=100,\n",
    "    do_sample=True,      # Enable sampling to allow diverse outputs\n",
    "    top_k=50,            # Consider the top 50 tokens at each step\n",
    "    top_p=0.95,          # Use nucleus sampling\n",
    "    temperature=0.9,     # Control the randomness of predictions\n",
    "    num_return_sequences=1,  # Generate one response\n",
    "    repetition_penalty=2.0   # Penalize repetitions\n",
    ")\n",
    "quantized_inference_time = time.time() - start_time\n",
    "\n",
    "# Decode the response\n",
    "quantized_response = q_tokenizer.decode(response_ids[0], skip_special_tokens=True)\n",
    "print(f\"Quantized model response: {quantized_response}\")"
   ]
  },
  {
   "cell_type": "markdown",
   "metadata": {},
   "source": [
    "## Measure the Optimization rate: \n",
    "How much did quantization saved on the size"
   ]
  },
  {
   "cell_type": "code",
   "execution_count": 6,
   "metadata": {},
   "outputs": [
    {
     "name": "stdout",
     "output_type": "stream",
     "text": [
      "Size of the unquantized model: 1241.35 MB\n",
      "Size of the quantized model: 351.32 MB\n",
      "Size reduction: 890.03 MB (71.70%)\n"
     ]
    }
   ],
   "source": [
    "# Measure and compare the sizes of the models\n",
    "unquantized_model_size = sum(os.path.getsize(os.path.join(model_dir, f)) for f in os.listdir(model_dir) if os.path.isfile(os.path.join(model_dir, f)))\n",
    "quantized_model_size = sum(os.path.getsize(os.path.join(quantized_model_dir, f)) for f in os.listdir(quantized_model_dir) if os.path.isfile(os.path.join(quantized_model_dir, f)))\n",
    "\n",
    "print(f\"Size of the unquantized model: {unquantized_model_size / (1024 * 1024):.2f} MB\")\n",
    "print(f\"Size of the quantized model: {quantized_model_size / (1024 * 1024):.2f} MB\")\n",
    "print(f\"Size reduction: {(unquantized_model_size - quantized_model_size) / (1024 * 1024):.2f} MB ({((unquantized_model_size - quantized_model_size) / unquantized_model_size) * 100:.2f}%)\")"
   ]
  },
  {
   "cell_type": "markdown",
   "metadata": {},
   "source": [
    "### Measure Inference Time"
   ]
  },
  {
   "cell_type": "code",
   "execution_count": 7,
   "metadata": {},
   "outputs": [
    {
     "name": "stdout",
     "output_type": "stream",
     "text": [
      "Inference time (unquantized model): 3.11 seconds\n",
      "Inference time (quantized model): 2.48 seconds\n",
      "Speedup: 1.25x\n"
     ]
    }
   ],
   "source": [
    "\n",
    "print(f\"Inference time (unquantized model): {unquantized_inference_time:.2f} seconds\")\n",
    "print(f\"Inference time (quantized model): {quantized_inference_time:.2f} seconds\")\n",
    "print(f\"Speedup: {unquantized_inference_time / quantized_inference_time:.2f}x\")"
   ]
  },
  {
   "cell_type": "markdown",
   "metadata": {},
   "source": [
    "### Understand where the model is hanging"
   ]
  },
  {
   "cell_type": "code",
   "execution_count": 8,
   "metadata": {},
   "outputs": [
    {
     "name": "stderr",
     "output_type": "stream",
     "text": [
      "STAGE:2024-06-29 05:21:58 66591:454334 ActivityProfilerController.cpp:314] Completed Stage: Warm Up\n",
      "STAGE:2024-06-29 05:21:58 66591:454334 ActivityProfilerController.cpp:320] Completed Stage: Collection\n",
      "STAGE:2024-06-29 05:21:58 66591:454334 ActivityProfilerController.cpp:324] Completed Stage: Post Processing\n"
     ]
    },
    {
     "name": "stdout",
     "output_type": "stream",
     "text": [
      "Inference time (unquantized model): 3.03 seconds\n",
      "Inference time (quantized model): 2.99 seconds\n",
      "Speedup: 1.01x\n"
     ]
    },
    {
     "name": "stderr",
     "output_type": "stream",
     "text": [
      "STAGE:2024-06-29 05:22:01 66591:454334 ActivityProfilerController.cpp:314] Completed Stage: Warm Up\n",
      "STAGE:2024-06-29 05:22:01 66591:454334 ActivityProfilerController.cpp:320] Completed Stage: Collection\n",
      "STAGE:2024-06-29 05:22:01 66591:454334 ActivityProfilerController.cpp:324] Completed Stage: Post Processing\n"
     ]
    }
   ],
   "source": [
    "# Measure and compare inference speeds\n",
    "unquantized_inference_time, _ = measure_inference_time(unquantized_model, input_ids, attention_mask, tokenizer, model_type=\"unquantized\")\n",
    "quantized_inference_time, _ = measure_inference_time(q_model, input_ids, attention_mask, q_tokenizer, model_type=\"quantized\")\n",
    "\n",
    "print(f\"Inference time (unquantized model): {unquantized_inference_time:.2f} seconds\")\n",
    "print(f\"Inference time (quantized model): {quantized_inference_time:.2f} seconds\")\n",
    "print(f\"Speedup: {unquantized_inference_time / quantized_inference_time:.2f}x\")"
   ]
  },
  {
   "cell_type": "code",
   "execution_count": 9,
   "metadata": {},
   "outputs": [
    {
     "data": {
      "image/png": "[encoded data removed]",
      "text/plain": [
       "<Figure size 1200x500 with 2 Axes>"
      ]
     },
     "metadata": {},
     "output_type": "display_data"
    }
   ],
   "source": [
    "# Convert sizes to MB for plotting\n",
    "unquantized_model_size_mb = unquantized_model_size / (1024 * 1024)\n",
    "quantized_model_size_mb = quantized_model_size / (1024 * 1024)\n",
    "\n",
    "# Plot the measurements\n",
    "plot_measurements(unquantized_model_size_mb, quantized_model_size_mb, unquantized_inference_time, quantized_inference_time)"
   ]
  },
  {
   "cell_type": "code",
   "execution_count": 10,
   "metadata": {},
   "outputs": [
    {
     "ename": "SyntaxError",
     "evalue": "cannot assign to operator (2911169554.py, line 1)",
     "output_type": "error",
     "traceback": [
      "\u001b[0;36m  Cell \u001b[0;32mIn[10], line 1\u001b[0;36m\u001b[0m\n\u001b[0;31m    tensorboard --logdir=./logs\u001b[0m\n\u001b[0m    ^\u001b[0m\n\u001b[0;31mSyntaxError\u001b[0m\u001b[0;31m:\u001b[0m cannot assign to operator\n"
     ]
    }
   ],
   "source": []
  }
 ],
 "metadata": {
  "kernelspec": {
   "display_name": "Python 3",
   "language": "python",
   "name": "python3"
  },
  "language_info": {
   "codemirror_mode": {
    "name": "ipython",
    "version": 3
   },
   "file_extension": ".py",
   "mimetype": "text/x-python",
   "name": "python",
   "nbconvert_exporter": "python",
   "pygments_lexer": "ipython3",
   "version": "3.9.19"
  }
 },
 "nbformat": 4,
 "nbformat_minor": 2
}
